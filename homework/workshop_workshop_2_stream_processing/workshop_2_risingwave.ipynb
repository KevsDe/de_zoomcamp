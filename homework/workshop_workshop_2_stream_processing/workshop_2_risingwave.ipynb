{
 "cells": [
  {
   "cell_type": "code",
   "execution_count": 1,
   "id": "477db282-a77e-4957-ab66-90dfc1a48511",
   "metadata": {},
   "outputs": [],
   "source": [
    "#Question 1\n",
    "\n",
    "# CREATE MATERIALIZED VIEW question_1 AS\n",
    "# SELECT\n",
    "# taxi_zone_pickup.zone AS pickup_zone,\n",
    "#     taxi_zone_dropoff.zone AS dropoff_zone,\n",
    "#     AVG(tpep_dropoff_datetime - tpep_pickup_datetime) AS avg_dur,\n",
    "#     MIN(tpep_dropoff_datetime - tpep_pickup_datetime) AS min_dur,\n",
    "#     MAX(tpep_dropoff_datetime - tpep_pickup_datetime) AS max_dur\n",
    "# FROM trip_data\n",
    "#     JOIN taxi_zone AS taxi_zone_dropoff\n",
    "#         ON trip_data.dolocationid = taxi_zone_dropoff.location_id\n",
    "#     JOIN taxi_zone AS taxi_zone_pickup\n",
    "#         ON trip_data.pulocationid = taxi_zone_pickup.location_id\n",
    "# GROUP BY \n",
    "#     taxi_zone_pickup.zone, \n",
    "#     taxi_zone_dropoff.zone\n",
    "# ORDER BY\n",
    "#     avg_dur DESC;\n",
    "\n",
    "\n",
    "# Answer: Yorkville East, Steinway\r\n"
   ]
  },
  {
   "cell_type": "code",
   "execution_count": 3,
   "id": "982fd524-badb-46b0-b829-f26221ddf617",
   "metadata": {},
   "outputs": [],
   "source": [
    "#Question 2\n",
    "# CREATE MATERIALIZED VIEW question_2 AS\n",
    "# SELECT\n",
    "#     taxi_zone_pickup.zone AS pickup_zone,\n",
    "#     taxi_zone_dropoff.zone AS dropoff_zone,\n",
    "#     AVG(tpep_dropoff_datetime - tpep_pickup_datetime) AS avg_dur,\n",
    "#     MIN(tpep_dropoff_datetime - tpep_pickup_datetime) AS min_dur,\n",
    "#     MAX(tpep_dropoff_datetime - tpep_pickup_datetime) AS max_dur,\n",
    "#     COUNT(1) AS n_trips\n",
    "# FROM trip_data\n",
    "#     JOIN taxi_zone AS taxi_zone_dropoff\n",
    "#         ON trip_data.dolocationid = taxi_zone_dropoff.location_id\n",
    "#     JOIN taxi_zone AS taxi_zone_pickup\n",
    "#         ON trip_data.pulocationid = taxi_zone_pickup.location_id\n",
    "# GROUP BY \n",
    "#     taxi_zone_pickup.zone, \n",
    "#     taxi_zone_dropoff.zone\n",
    "# HAVING\n",
    "#     AVG(tpep_dropoff_datetime - tpep_pickup_datetime) = (SELECT MAX(avg_dur) FROM question_1);\n",
    "\n",
    "# Answer: 1"
   ]
  },
  {
   "cell_type": "code",
   "execution_count": 4,
   "id": "12d208f6-5e62-4f2b-af84-d72fda8be431",
   "metadata": {},
   "outputs": [],
   "source": [
    "# Question 3\n",
    "# CREATE MATERIALIZED VIEW question_3_1 AS\n",
    "#     WITH t AS (\n",
    "#         SELECT MAX(tpep_pickup_datetime) AS latest_pickup_time\n",
    "#         FROM trip_data\n",
    "#     )\n",
    "#     SELECT \n",
    "#         taxi_zone.zone AS zone_name,\n",
    "#         COUNT(1) AS n_trips\n",
    "#     FROM t,\n",
    "#          trip_data\n",
    "#             JOIN taxi_zone\n",
    "#                 ON trip_data.pulocationid = taxi_zone.location_id\n",
    "#     WHERE trip_data.tpep_pickup_datetime > latest_pickup_time - interval '17 hour'\n",
    "#     GROUP BY taxi_zone.zone\n",
    "#     ORDER BY n_trips DESC\n",
    "#     LIMIT 3;\n",
    "\n",
    "# Answer: LaGuardia Airport, Lincoln Square East, JFK Airport"
   ]
  }
 ],
 "metadata": {
  "kernelspec": {
   "display_name": "Python 3 (ipykernel)",
   "language": "python",
   "name": "python3"
  },
  "language_info": {
   "codemirror_mode": {
    "name": "ipython",
    "version": 3
   },
   "file_extension": ".py",
   "mimetype": "text/x-python",
   "name": "python",
   "nbconvert_exporter": "python",
   "pygments_lexer": "ipython3",
   "version": "3.8.10"
  }
 },
 "nbformat": 4,
 "nbformat_minor": 5
}
