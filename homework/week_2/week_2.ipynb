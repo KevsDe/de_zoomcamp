{
 "cells": [
  {
   "cell_type": "markdown",
   "id": "c9a4889b-78c1-48d4-8093-81179e33a1a9",
   "metadata": {},
   "source": [
    "@data_loader\r\n",
    "def load_data_from_api(*args, **kwargs):\r\n",
    "\r\n",
    "    files_data = ['green_tripdata_2020-10.csv.gz', 'green_tripdata_2020-11.csv.gz', 'green_tripdata_2020-12.csv.gz']\r\n",
    "    \r\n",
    "    for count, value in enumerate(files_data):\r\n",
    "        url = f'https://github.com/DataTalksClub/nyc-tlc-data/releases/download/green/{value}'\r\n",
    "\r\n",
    "        taxi_dtypes = {\r\n",
    "            'VendorID': pd.Int64Dtype(), \r\n",
    "            'passenger_count': pd.Int64Dtype(),\r\n",
    "            'trip_distance': float,\r\n",
    "            'RatecodeID':pd.Int64Dtype(),\r\n",
    "            'store_and_fwd_flag':str,\r\n",
    "            'PULocationID':pd.Int64Dtype(),\r\n",
    "            'DOLocationID':pd.Int64Dtype(),\r\n",
    "            'payment_type': pd.Int64Dtype(),\r\n",
    "            'fare_amount': float,\r\n",
    "            'extra':float,\r\n",
    "            'mta_tax':float,\r\n",
    "            'tip_amount':float,\r\n",
    "            'tolls_amount':float,\r\n",
    "            'improvement_surcharge':float,\r\n",
    "            'total_amount':float,\r\n",
    "            'congestion_surcharge':float,\r\n",
    "            'trip_type':str\r\n",
    "\r\n",
    "        }\r\n",
    "\r\n",
    "        # native date parsing \r\n",
    "        parse_dates = ['lpep_pickup_datetime', 'lpep_dropoff_datetime']\r\n",
    "\r\n",
    "        if count == 0:\r\n",
    "            df = pd.read_csv(url, sep=\",\", compression=\"gzip\", dtype=taxi_dtypes, parse_dates=parse_dates)\r\n",
    "        else:\r\n",
    "            df = pd.concat([df,pd.read_csv(url, sep=\",\", compression=\"gzip\", dtype=taxi_dtypes, parse_dates=parse_dates)],ignore_index=True)\r\n",
    "\r\n",
    "\r\n",
    "\r\n",
    "    return df\r\n"
   ]
  },
  {
   "cell_type": "markdown",
   "id": "7b2fe487-3215-4ad3-9a18-5f128a8b796a",
   "metadata": {},
   "source": [
    "def camel_to_snake(text):\r\n",
    "    s1 = re.sub('(.)([A-Z][a-z]+)', r'\\1_\\2', text)\r\n",
    "    return re.sub('([a-z0-9])([A-Z])', r'\\1_\\2', s1).lower()  \r\n",
    "\r\n",
    "\r\n",
    "@transformer\r\n",
    "def transform(data, *args, **kwargs):\r\n",
    "    data = data[(data['passenger_count'] > 0) & (data['trip_distance'] > 0)]\r\n",
    "\r\n",
    "    data['lpep_pickup_date'] = data['lpep_pickup_datetime'].dt.date\r\n",
    "\r\n",
    "    data.columns = [camel_to_snake(x) for x in data.columns]\r\n",
    "\r\n",
    "\r\n",
    "    return data\r\n",
    "\r\n",
    "\r\n",
    "@test\r\n",
    "def test_output(output, *args) -> None:\r\n",
    "    \"\"\"\r\n",
    "    Template code for testing the output of the block.\r\n",
    "    \"\"\"\r\n",
    "    assert (~output['vendor_id'].isin([1,2])).sum() == 0, 'The vendor id is not one of the expected ones'\r\n",
    "    assert output['trip_distance'].isin([0]).sum() == 0, 'There are rides with zero trip distance'\r\n",
    "    assert output['passenger_count'].isin([0]).sum() == 0, 'There are rides with zero passengers'"
   ]
  },
  {
   "cell_type": "code",
   "execution_count": null,
   "id": "f07a644a-828f-4e42-9981-5103bceb0c88",
   "metadata": {},
   "outputs": [],
   "source": []
  }
 ],
 "metadata": {
  "kernelspec": {
   "display_name": "Python 3 (ipykernel)",
   "language": "python",
   "name": "python3"
  },
  "language_info": {
   "codemirror_mode": {
    "name": "ipython",
    "version": 3
   },
   "file_extension": ".py",
   "mimetype": "text/x-python",
   "name": "python",
   "nbconvert_exporter": "python",
   "pygments_lexer": "ipython3",
   "version": "3.8.10"
  }
 },
 "nbformat": 4,
 "nbformat_minor": 5
}
