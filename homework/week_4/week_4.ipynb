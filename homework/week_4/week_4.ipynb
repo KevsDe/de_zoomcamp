{
 "cells": [
  {
   "cell_type": "code",
   "execution_count": 2,
   "id": "4de800b0-3e84-4c2c-a7a4-fe01b08dc077",
   "metadata": {},
   "outputs": [],
   "source": [
    "# Question 1 \n",
    "# It applies a limit 100 only to our staging models"
   ]
  },
  {
   "cell_type": "code",
   "execution_count": 4,
   "id": "fb8dca07-e37b-4b14-a266-0aca13b2b21d",
   "metadata": {},
   "outputs": [],
   "source": [
    "# Question 2\n",
    "# The code from a development branch requesting a merge to main"
   ]
  },
  {
   "cell_type": "code",
   "execution_count": null,
   "id": "5666b705-cfc2-42d1-9756-78bd864fed28",
   "metadata": {},
   "outputs": [],
   "source": []
  },
  {
   "cell_type": "code",
   "execution_count": null,
   "id": "042bb39a-94fd-4277-8951-5e6880e3b784",
   "metadata": {},
   "outputs": [],
   "source": []
  }
 ],
 "metadata": {
  "kernelspec": {
   "display_name": "Python 3 (ipykernel)",
   "language": "python",
   "name": "python3"
  },
  "language_info": {
   "codemirror_mode": {
    "name": "ipython",
    "version": 3
   },
   "file_extension": ".py",
   "mimetype": "text/x-python",
   "name": "python",
   "nbconvert_exporter": "python",
   "pygments_lexer": "ipython3",
   "version": "3.8.10"
  }
 },
 "nbformat": 4,
 "nbformat_minor": 5
}
