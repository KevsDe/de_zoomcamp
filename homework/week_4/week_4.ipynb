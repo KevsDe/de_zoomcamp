{
 "cells": [
  {
   "cell_type": "code",
   "execution_count": 2,
   "id": "4de800b0-3e84-4c2c-a7a4-fe01b08dc077",
   "metadata": {},
   "outputs": [],
   "source": [
    "# Question 1 \n",
    "# It applies a limit 100 only to our staging models"
   ]
  },
  {
   "cell_type": "code",
   "execution_count": 4,
   "id": "fb8dca07-e37b-4b14-a266-0aca13b2b21d",
   "metadata": {},
   "outputs": [],
   "source": [
    "# Question 2\n",
    "# The code from a development branch requesting a merge to main"
   ]
  },
  {
   "cell_type": "code",
   "execution_count": 5,
   "id": "5666b705-cfc2-42d1-9756-78bd864fed28",
   "metadata": {},
   "outputs": [
    {
     "data": {
      "text/plain": [
       "\"\\nwith data as (\\n  select *,\\n  timestamp_trunc(\\n        cast(pickup_datetime as timestamp),\\n        month\\n    ) as trip_month, \\n  from `project.dataset.table`\\n)\\nselect count(1),\\nfrom data\\nwhere trip_month = '2019-07-01 00:00:00 UTC'\\n\""
      ]
     },
     "execution_count": 5,
     "metadata": {},
     "output_type": "execute_result"
    }
   ],
   "source": [
    "# Question 3 \n",
    "#Rounding --> 22998722\n",
    "\n",
    "\"\"\"\n",
    "with data as (\n",
    "  select *,\n",
    "  timestamp_trunc(\n",
    "        cast(pickup_datetime as timestamp),\n",
    "        month\n",
    "    ) as trip_month, \n",
    "  from `project.dataset.table`\n",
    ")\n",
    "select count(1),\n",
    "from data\n",
    "where trip_month = '2019-07-01 00:00:00 UTC'\n",
    "\"\"\""
   ]
  },
  {
   "cell_type": "code",
   "execution_count": 6,
   "id": "042bb39a-94fd-4277-8951-5e6880e3b784",
   "metadata": {},
   "outputs": [
    {
     "data": {
      "text/plain": [
       "\"\\nwith data as (\\n  select *,\\n  timestamp_trunc(\\n        cast(pickup_datetime as timestamp),\\n        month\\n    ) as revenue_month, \\n    from `project.dataset.table`\\n)\\nselect service_type,\\ncount(1)\\nfrom data \\nwhere revenue_month = '2019-07-01 00:00:00 UTC'\\ngroup by service_type\""
      ]
     },
     "execution_count": 6,
     "metadata": {},
     "output_type": "execute_result"
    }
   ],
   "source": [
    "# Question 4\n",
    "\"\"\"\n",
    "with data as (\n",
    "  select *,\n",
    "  timestamp_trunc(\n",
    "        cast(pickup_datetime as timestamp),\n",
    "        month\n",
    "    ) as revenue_month, \n",
    "    from `project.dataset.table`\n",
    ")\n",
    "select service_type,\n",
    "count(1)\n",
    "from data \n",
    "where revenue_month = '2019-07-01 00:00:00 UTC'\n",
    "group by service_type\"\"\""
   ]
  },
  {
   "cell_type": "code",
   "execution_count": null,
   "id": "0f09befa-c365-4d74-8b87-61fd1d51ec4a",
   "metadata": {},
   "outputs": [],
   "source": []
  }
 ],
 "metadata": {
  "kernelspec": {
   "display_name": "Python 3 (ipykernel)",
   "language": "python",
   "name": "python3"
  },
  "language_info": {
   "codemirror_mode": {
    "name": "ipython",
    "version": 3
   },
   "file_extension": ".py",
   "mimetype": "text/x-python",
   "name": "python",
   "nbconvert_exporter": "python",
   "pygments_lexer": "ipython3",
   "version": "3.8.10"
  }
 },
 "nbformat": 4,
 "nbformat_minor": 5
}
