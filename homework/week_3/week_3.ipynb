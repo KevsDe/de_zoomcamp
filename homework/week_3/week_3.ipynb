{
 "cells": [
  {
   "cell_type": "raw",
   "id": "0aaa1e27-bf98-4b59-b105-7cd48a7166c9",
   "metadata": {},
   "source": [
    "Q1\n",
    "\n",
    "CREATE OR REPLACE EXTERNAL TABLE `project.dataset.table_external` \r\n",
    "OPTIONS(\r\n",
    "  format = 'PARQUET',\r\n",
    "  uris = ['gs://xxxx/xxxxxxxx.parque\n",
    "\n",
    "t']\r",
    "CREATE OR REPLACE TABE  `project.dataset.table_internal` \r\n",
    "AS\r\n",
    "SELECT M* FRO `project.dataset.table_exter\n",
    "na` \n",
    "\n",
    "lSELECT COUNT(1) ROM  `project.dataset.table_inte`\n",
    "\n",
    ")\r\n",
    "\r\n"
   ]
  },
  {
   "cell_type": "raw",
   "id": "eef1e931-b638-4f24-ab02-ce2d0cadb3f2",
   "metadata": {},
   "source": [
    "Q2\n",
    "\n",
    "SELECT COUNT(DISTINCT PULocationID) FROM `project.dataset.table_external` \n",
    "\n",
    "SELECT COUNT(DISTINCT PULocationID) FROM `project.dataset.table_internal` \n"
   ]
  },
  {
   "cell_type": "raw",
   "id": "392198b5-0bb1-4b5e-b2ae-b8148f17d2d4",
   "metadata": {},
   "source": [
    "Q3 \n",
    "\n",
    "SELECT COUNT(fare_amount) FROM `project.dataset.table_internal`\n",
    "WHERE  fare_amount = 0;"
   ]
  },
  {
   "cell_type": "raw",
   "id": "6444340b-5565-4f27-9de8-2c4abf7cac11",
   "metadata": {},
   "source": [
    "Q4 \n",
    "\n",
    "CREATE TABLE `project.dataset.table_q4` \n",
    "PARTITION BY lpep_pickup_datetime\n",
    "CLUSTER BY PUlocationID\n",
    "\n",
    "AS\n",
    "SELECT * FROM `project.dataset.table_internal`"
   ]
  },
  {
   "cell_type": "raw",
   "id": "de5bb4de-fe6c-4d99-9590-3aa33ce5c71a",
   "metadata": {},
   "source": [
    "Q5\n",
    "\n",
    "SELECT DISTINCT(PULocationID)  FROM `project.dataset.table_internal`\n",
    "WHERE lpep_pickup_datetime BETWEEN '2022-06-01' AND '2022-06-30'\n",
    "\n",
    "SELECT DISTINCT(PULocationID)  FROM `project.dataset.table_q4` \n",
    "WHERE lpep_pickup_datetime BETWEEN '2022-06-01' AND '2022-06-30'"
   ]
  },
  {
   "cell_type": "code",
   "execution_count": null,
   "id": "d76d92e1-7a93-4585-9a19-4bb881f628b3",
   "metadata": {},
   "outputs": [],
   "source": []
  }
 ],
 "metadata": {
  "kernelspec": {
   "display_name": "Python 3 (ipykernel)",
   "language": "python",
   "name": "python3"
  },
  "language_info": {
   "codemirror_mode": {
    "name": "ipython",
    "version": 3
   },
   "file_extension": ".py",
   "mimetype": "text/x-python",
   "name": "python",
   "nbconvert_exporter": "python",
   "pygments_lexer": "ipython3",
   "version": "3.8.10"
  }
 },
 "nbformat": 4,
 "nbformat_minor": 5
}
