{
 "cells": [
  {
   "cell_type": "code",
   "execution_count": 15,
   "id": "86711e87-3f0d-45cc-8db8-b264e87558e3",
   "metadata": {},
   "outputs": [],
   "source": [
    "# Q1\n",
    "\n",
    "# CREATE OR REPLACE EXTERNAL TABLE `project.dataset.table_external` \n",
    "# OPTIONS(\n",
    "# format = 'PARQUET',\n",
    "# uris = ['gs://xxxx/xxxxxxxx.parquet']\n",
    "\n",
    "\n",
    "# CREATE OR REPLACE TABLE  `project.dataset.table_internal` \n",
    "# AS\n",
    "# SELECT * FROM `project.dataset.table_external` \n",
    "\n",
    "# SELECT COUNT(1) FROM  `project.dataset.table_internal"
   ]
  },
  {
   "cell_type": "code",
   "execution_count": 11,
   "id": "463bdbb0-5b35-41cd-a9aa-12e2c3c18c10",
   "metadata": {},
   "outputs": [],
   "source": [
    "# Q2\n",
    "\n",
    "# SELECT COUNT(DISTINCT PULocationID) FROM `project.dataset.table_external` \n",
    "\n",
    "# SELECT COUNT(DISTINCT PULocationID) FROM `project.dataset.table_internal` "
   ]
  },
  {
   "cell_type": "code",
   "execution_count": 12,
   "id": "d4beeb01-46c3-42a9-a705-0e45aa34c3c2",
   "metadata": {},
   "outputs": [],
   "source": [
    "# Q3 \n",
    "\n",
    "# SELECT COUNT(fare_amount) FROM `project.dataset.table_internal`\n",
    "# WHERE  fare_amount = 0;"
   ]
  },
  {
   "cell_type": "code",
   "execution_count": 13,
   "id": "ef0eb466-74c3-4826-8a1a-e560dde1eeaf",
   "metadata": {},
   "outputs": [],
   "source": [
    "# Q4 \n",
    "\n",
    "# CREATE TABLE `project.dataset.table_q4` \n",
    "# PARTITION BY lpep_pickup_datetime\n",
    "# CLUSTER BY PUlocationID\n",
    "\n",
    "# AS\n",
    "# SELECT * FROM `project.dataset.table_internal`"
   ]
  },
  {
   "cell_type": "code",
   "execution_count": 14,
   "id": "c2754b08-bd0a-44b9-be2d-fdd4f2673711",
   "metadata": {},
   "outputs": [],
   "source": [
    "# Q5\n",
    "\n",
    "# SELECT DISTINCT(PULocationID)  FROM `project.dataset.table_internal`\n",
    "# WHERE lpep_pickup_datetime BETWEEN '2022-06-01' AND '2022-06-30'\n",
    "\n",
    "# SELECT DISTINCT(PULocationID)  FROM `project.dataset.table_q4` \n",
    "# WHERE lpep_pickup_datetime BETWEEN '2022-06-01' AND '2022-06-30'"
   ]
  },
  {
   "cell_type": "code",
   "execution_count": null,
   "id": "d76d92e1-7a93-4585-9a19-4bb881f628b3",
   "metadata": {},
   "outputs": [],
   "source": []
  }
 ],
 "metadata": {
  "kernelspec": {
   "display_name": "Python 3 (ipykernel)",
   "language": "python",
   "name": "python3"
  },
  "language_info": {
   "codemirror_mode": {
    "name": "ipython",
    "version": 3
   },
   "file_extension": ".py",
   "mimetype": "text/x-python",
   "name": "python",
   "nbconvert_exporter": "python",
   "pygments_lexer": "ipython3",
   "version": "3.8.10"
  }
 },
 "nbformat": 4,
 "nbformat_minor": 5
}
